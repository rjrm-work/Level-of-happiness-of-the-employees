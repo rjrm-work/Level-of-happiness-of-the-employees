{
 "cells": [
  {
   "cell_type": "code",
   "execution_count": 44,
   "metadata": {},
   "outputs": [],
   "source": [
    "#Preparing the csv file\n",
    "\n",
    "import pandas as pd\n",
    "\n",
    "rawdata=pd.read_csv('City_Employee_Salaries_March_2018.csv')\n",
    "df=pd.DataFrame(rawdata)\n",
    "cleandata=df[[\"Unit\",\"Annual_Rt\",\"Hrly_Rate\",\"Full_Part\",\"Yr_in_service\",\"Lvl_of_Happiness\"]]"
   ]
  },
  {
   "cell_type": "code",
   "execution_count": null,
   "metadata": {},
   "outputs": [],
   "source": []
  },
  {
   "cell_type": "code",
   "execution_count": 39,
   "metadata": {},
   "outputs": [],
   "source": [
    "cleandata.to_csv(\"Clean_data_level_of_happiness.csv\")"
   ]
  },
  {
   "cell_type": "code",
   "execution_count": null,
   "metadata": {},
   "outputs": [],
   "source": []
  },
  {
   "cell_type": "code",
   "execution_count": null,
   "metadata": {},
   "outputs": [],
   "source": []
  }
 ],
 "metadata": {
  "kernelspec": {
   "display_name": "Python 3",
   "language": "python",
   "name": "python3"
  },
  "language_info": {
   "codemirror_mode": {
    "name": "ipython",
    "version": 3
   },
   "file_extension": ".py",
   "mimetype": "text/x-python",
   "name": "python",
   "nbconvert_exporter": "python",
   "pygments_lexer": "ipython3",
   "version": "3.7.0"
  }
 },
 "nbformat": 4,
 "nbformat_minor": 2
}
